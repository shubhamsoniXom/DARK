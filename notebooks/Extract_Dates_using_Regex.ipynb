{
 "cells": [
  {
   "cell_type": "code",
   "execution_count": 1,
   "metadata": {},
   "outputs": [
    {
     "ename": "RuntimeError",
     "evalue": "module compiled against API version 0xc but this version of numpy is 0xb",
     "output_type": "error",
     "traceback": [
      "\u001b[1;31m---------------------------------------------------------------------------\u001b[0m",
      "\u001b[1;31mRuntimeError\u001b[0m                              Traceback (most recent call last)",
      "\u001b[1;31mRuntimeError\u001b[0m: module compiled against API version 0xc but this version of numpy is 0xb"
     ]
    }
   ],
   "source": [
    "import re\n",
    "import pandas as pd"
   ]
  },
  {
   "cell_type": "code",
   "execution_count": 2,
   "metadata": {
    "collapsed": true
   },
   "outputs": [],
   "source": [
    "cap_months = {'JAN':'Jan',\n",
    "              'FEB':'Feb',\n",
    "              'MAR':'Mar',\n",
    "              'APRIL':'Apr','APR':'Apr',\n",
    "              'MAY':'May',\n",
    "              'JUNE':'Jun','JUN':'Jun',\n",
    "              'JUL':'Jul','JULY':'Jul',\n",
    "              'AUGUST':'Aug','AUG':'Aug',\n",
    "              'SEPT':'Sep','SEP':'Sep',\n",
    "              'OCT':'Oct',\n",
    "              'NOV':'Nov',\n",
    "              'DEC':'Dec'}"
   ]
  },
  {
   "cell_type": "code",
   "execution_count": 3,
   "metadata": {
    "collapsed": true
   },
   "outputs": [],
   "source": [
    "'''some example filenames with weird date formats which we want to extract'''\n",
    "\n",
    "date_list = [' DP Rotating hours Database 13-May-2014.xlsm',\n",
    " ' DP Rotating hours Database 8-APRIL-2014.xlsm',\n",
    " ' DP Rotating hours Database 20-Jan-2014.xlsm',\n",
    " ' DP Rotating hours Database 20-May-2014.xlsm',\n",
    " ' DP Rotating hours Database 10-Jul-2014.xlsm',\n",
    " 'Copy of DP ROTATING HRS TALLY - July24th 2013ver2.xlsm',\n",
    " ' DP Rotating hours Database 27-Jan-2014.xlsm',\n",
    " ' DP Rotating hours Database 10-June-2014.xlsm',\n",
    " ' DP Rotating hours Database 2-Feb-2014.xlsm',\n",
    " 'DP ROTATING HRS TALLY - June.24th.2013.xlsx',\n",
    " 'DP ROTATING HRS TALLY - June.3.rd.2013.xlsm',\n",
    " 'Rotating hours updated July 31 2013.xlsm',\n",
    " ' DP Rotating hours Database 23-June-2014.xlsm',\n",
    " 'Rotating hours updated Aug  9 . 2013 - Copy.xlsm',\n",
    " 'Rotating hours updated Aug  10 . 2013 -.xlsm',\n",
    " ' DP Rotating hours Database 17-Jul-2014.xlsm',\n",
    " 'Rotating hours UPDATED Dec 6rd  2013 - Copy.xlsx',\n",
    " 'Rotating hours UPDATED Nov 9th 2013.xlsm',\n",
    " ' DP Rotating hours Database 22-Apr-2014.xlsm',\n",
    " 'DP ROTATING HRS TALLY - May 22.nd.2013.xlsm']"
   ]
  },
  {
   "cell_type": "code",
   "execution_count": 4,
   "metadata": {
    "collapsed": true
   },
   "outputs": [],
   "source": [
    "new_list = []\n",
    "for f in date_list:\n",
    "    for month in cap_months.keys():\n",
    "        if f is not None:\n",
    "            if month in f: f=f.replace(month,cap_months[month])\n",
    "    new_list.append(f)\n",
    "    "
   ]
  },
  {
   "cell_type": "code",
   "execution_count": 5,
   "metadata": {},
   "outputs": [
    {
     "data": {
      "text/plain": [
       "[' DP Rotating hours Database 13-May-2014.xlsm',\n",
       " ' DP Rotating hours Database 8-Apr-2014.xlsm',\n",
       " ' DP Rotating hours Database 20-Jan-2014.xlsm',\n",
       " ' DP Rotating hours Database 20-May-2014.xlsm',\n",
       " ' DP Rotating hours Database 10-Jul-2014.xlsm',\n",
       " 'Copy of DP ROTATING HRS TALLY - July24th 2013ver2.xlsm',\n",
       " ' DP Rotating hours Database 27-Jan-2014.xlsm',\n",
       " ' DP Rotating hours Database 10-June-2014.xlsm',\n",
       " ' DP Rotating hours Database 2-Feb-2014.xlsm',\n",
       " 'DP ROTATING HRS TALLY - June.24th.2013.xlsx',\n",
       " 'DP ROTATING HRS TALLY - June.3.rd.2013.xlsm',\n",
       " 'Rotating hours updated July 31 2013.xlsm',\n",
       " ' DP Rotating hours Database 23-June-2014.xlsm',\n",
       " 'Rotating hours updated Aug  9 . 2013 - Copy.xlsm',\n",
       " 'Rotating hours updated Aug  10 . 2013 -.xlsm',\n",
       " ' DP Rotating hours Database 17-Jul-2014.xlsm',\n",
       " 'Rotating hours UPDATED Dec 6rd  2013 - Copy.xlsx',\n",
       " 'Rotating hours UPDATED Nov 9th 2013.xlsm',\n",
       " ' DP Rotating hours Database 22-Apr-2014.xlsm',\n",
       " 'DP ROTATING HRS TALLY - May 22.nd.2013.xlsm']"
      ]
     },
     "execution_count": 5,
     "metadata": {},
     "output_type": "execute_result"
    }
   ],
   "source": [
    "new_list"
   ]
  },
  {
   "cell_type": "markdown",
   "metadata": {},
   "source": [
    "# Define Regex pattern"
   ]
  },
  {
   "cell_type": "code",
   "execution_count": 6,
   "metadata": {
    "collapsed": true
   },
   "outputs": [],
   "source": [
    "# pattern = re.compile(r'^(?:\\d{1,2}(?:(?:-|/)|(?:th|st|nd|rd)?\\s))?(?:(?:(?:Jan(?:uary)?|Feb(?:ruary)?|Mar(?:ch)?|Apr(?:il)?|May|Jun(?:e)?|Jul(?:y)?|Aug(?:ust)?|Sep(?:tember)?|Oct(?:ober)?|Nov(?:ember)?|Dec(?:ember)?)(?:(?:-|/)|(?:,|\\.)?\\s)?)?(?:\\d{1,2}(?:(?:-|/)|(?:th|st|nd|rd)?\\s))?)(?:\\d{2,4})$')\n",
    "# regEx = r'(?:\\d{1,2}[-/th|st|nd|rd\\s]*)?(?:Jan|Feb|Mar|Apr|May|Jun|Jul|Aug|Sep|Oct|Nov|Dec)?[a-z\\s,.]*(?:\\d{1,2}[-/th|st|nd|rd)\\s,]*)+(?:\\d{2,4})+'\n",
    "# pat1 = r'\\d+-\\w+-\\d+'\n",
    "pat1 = r'(\\d+-\\w+-\\d+)|((?:Jan|JAN|Feb|FEB|Mar|MAR|Apr|APR|May|MAY|Jun|JUN|Jul|JUL|Aug|AUG|Sep|SEP|Oct|OCT|Nov|NOV|Dec|DEC)??[a-z-\\s,. ]*(?:\\d{1,2}[-/th|st|nd|rd)\\s, .]*)+(?:\\d{2,4})+)'"
   ]
  },
  {
   "cell_type": "code",
   "execution_count": 7,
   "metadata": {
    "collapsed": true
   },
   "outputs": [],
   "source": [
    "def pat1_fun(pat1, x):\n",
    "    x = re.findall(pat1, x)\n",
    "    return x"
   ]
  },
  {
   "cell_type": "code",
   "execution_count": 8,
   "metadata": {},
   "outputs": [],
   "source": [
    "d_list = [pat1_fun(pat1,x) for x in new_list]"
   ]
  },
  {
   "cell_type": "code",
   "execution_count": 9,
   "metadata": {},
   "outputs": [],
   "source": [
    "d_list = [d[0] if len(d)>0 else None for d in d_list]\n",
    "dd = []\n",
    "for d in d_list:\n",
    "    if d==None: dd.append(None)\n",
    "    elif d[0]!='': dd.append(d[0])\n",
    "    else: dd.append(d[1])"
   ]
  },
  {
   "cell_type": "code",
   "execution_count": 10,
   "metadata": {},
   "outputs": [
    {
     "data": {
      "text/plain": [
       "['13-May-2014',\n",
       " '8-Apr-2014',\n",
       " '20-Jan-2014',\n",
       " '20-May-2014',\n",
       " '10-Jul-2014',\n",
       " 'July24th 2013',\n",
       " '27-Jan-2014',\n",
       " '10-June-2014',\n",
       " '2-Feb-2014',\n",
       " 'June.24th.2013',\n",
       " 'June.3.rd.2013',\n",
       " 'July 31 2013',\n",
       " '23-June-2014',\n",
       " 'Aug  9 . 2013',\n",
       " 'Aug  10 . 2013',\n",
       " '17-Jul-2014',\n",
       " 'Dec 6rd  2013',\n",
       " 'Nov 9th 2013',\n",
       " '22-Apr-2014',\n",
       " 'May 22.nd.2013']"
      ]
     },
     "execution_count": 10,
     "metadata": {},
     "output_type": "execute_result"
    }
   ],
   "source": [
    "dd"
   ]
  },
  {
   "cell_type": "code",
   "execution_count": 11,
   "metadata": {},
   "outputs": [
    {
     "data": {
      "text/plain": [
       "[Timestamp('2014-05-13 00:00:00'),\n",
       " Timestamp('2014-04-08 00:00:00'),\n",
       " Timestamp('2014-01-20 00:00:00'),\n",
       " Timestamp('2014-05-20 00:00:00'),\n",
       " Timestamp('2014-07-10 00:00:00'),\n",
       " Timestamp('2013-07-24 00:00:00'),\n",
       " Timestamp('2014-01-27 00:00:00'),\n",
       " Timestamp('2014-06-10 00:00:00'),\n",
       " Timestamp('2014-02-02 00:00:00'),\n",
       " Timestamp('2013-06-24 00:00:00'),\n",
       " Timestamp('2013-06-03 00:00:00'),\n",
       " Timestamp('2013-07-31 00:00:00'),\n",
       " Timestamp('2014-06-23 00:00:00'),\n",
       " Timestamp('2013-08-09 00:00:00'),\n",
       " Timestamp('2013-08-10 00:00:00'),\n",
       " Timestamp('2014-07-17 00:00:00'),\n",
       " Timestamp('2013-12-06 00:00:00'),\n",
       " Timestamp('2013-11-09 00:00:00'),\n",
       " Timestamp('2014-04-22 00:00:00'),\n",
       " Timestamp('2013-05-22 00:00:00')]"
      ]
     },
     "execution_count": 11,
     "metadata": {},
     "output_type": "execute_result"
    }
   ],
   "source": [
    "'''pandas to_datetime method does the rest of the job'''\n",
    "pd.to_datetime(dd).tolist()"
   ]
  }
 ],
 "metadata": {
  "kernelspec": {
   "display_name": "Python 3",
   "language": "python",
   "name": "python3"
  },
  "language_info": {
   "codemirror_mode": {
    "name": "ipython",
    "version": 3
   },
   "file_extension": ".py",
   "mimetype": "text/x-python",
   "name": "python",
   "nbconvert_exporter": "python",
   "pygments_lexer": "ipython3",
   "version": "3.6.3"
  }
 },
 "nbformat": 4,
 "nbformat_minor": 2
}
